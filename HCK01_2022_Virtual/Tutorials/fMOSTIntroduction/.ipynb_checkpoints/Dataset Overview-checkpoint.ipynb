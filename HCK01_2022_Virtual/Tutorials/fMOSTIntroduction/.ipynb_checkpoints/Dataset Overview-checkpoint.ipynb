{
 "cells": [
  {
   "cell_type": "markdown",
   "metadata": {},
   "source": [
    "## fMOST imaging and processing\n",
    "\n",
    "As part of the [BRAIN Initiative Cell Census Network (BICCN)](https://biccn.org/) efforts to characterize brain cell types across multiple modalities, [Peng et al 2021](https://www.nature.com/articles/s41586-021-03941-1), established a pipeline to label, image, reconstruct and classify single neurons in mice.\n",
    "\n",
    "These neurons are labelled by cell subclass or type-selective Cre driver lines, enabling correlation of their morphologies and projection patterns with molecular identities. \n",
    "\n",
    "A GFP-labelled brain is first embedded in resin for imaging in the fMOST platform. Following imaging of the entire block face, the top 1 µm of tissue is sliced off with a diamond knife, exposing the next face of the block for imaging. For the entire mouse brain, a 15–20 TB dataset containing about 10,000 coronal planes of 0.2–0.3 µm xy resolution and 1 µm z sampling rate is generated within 2 weeks.\n",
    "\n",
    "Vaa3D, an open-source, cross-platform visualization and analysis system, to use for reconstructing neuronal morphologies. Further, mBrainAligner software was used to perform 3D registration from fMOST images (subject) to the average template of the Allen CCFv3 (reference). Axonal and dendritic morphological features and projection patterns were quantified and used to identifed 11 major projection neuron types.\n",
    "\n",
    "The [fMOST imaging data](https://download.brainimagelibrary.org/biccn/zeng/luo/fMOST/) and [1,741 neuronal reconstructions (original and mapped)](https://doi.brainimagelibrary.org/doi/10.35077/g.25) are available for download at the Brain Imaging Library (BIL)\n",
    "\n",
    "[Extended Data Fig.3](https://www.nature.com/articles/s41586-021-03941-1/figures/7): Platform and workflow of the brain-wide complete morphology imaging, reconstruction, registration and analysis pipeline.\n",
    "![Platform and Workflow](ExtendFig3.png)"
   ]
  },
  {
   "cell_type": "markdown",
   "metadata": {},
   "source": [
    "## Allen Common Coordinate Framework CCFv3\n",
    "\n",
    "Allen Mouse Brain Common Coordinate Framework (CCFv3, [Wang et al, 2020](https://doi.org/10.1016/j.cell.2020.04.007)) is a 3D reference space by creating an\n",
    "average brain at 10um voxel resolution from serial two-photon tomography images of 1,675 young adult C57Bl6/J mice. Using multimodal reference data, we parcellated the entire brain directly in 3D, labeling every voxel with a brain structure spanning 43 isocortical areas and their layers, 314 subcortical gray matter structures, 81 fiber tracts, and 8 ventricular structures.\n",
    "\n",
    "CCFv is used in informatics pipelines and online applications to analyze, visualize and integrate multimodal and multiscale data sets in 3D, and is openly accessible for research use. CCFv3 is currently been used as the integration framework for the projects such as [Allen Brain Map](https://portal.brain-map.org/), [BICCN](https://biccn.org/), [IBL](https://www.internationalbrainlab.com/) and [eBrains](https://ebrains.eu/). \n",
    "\n",
    "![AllenCCFv3](AllenCCFv3.png)"
   ]
  },
  {
   "cell_type": "markdown",
   "metadata": {},
   "source": [
    "## Registration Challenge\n",
    "\n",
    "This aim of this hackathon is to generate reproducible pipelines to register whole-brain microscopy image data to the CCFv3. The fMOST dataset described above is particular challenging due to the distortion caused by the fixation and dehydration specimen processing steps.\n",
    "\n",
    "A typical first step in a registraton workflow is to downsample the imaging to preform the initial registration. For the hackathon, we have pre-downsample to 7-10 µm resolution volumes. The downsampled data can be found in this directory:\n",
    "https://download.brainlib.org/hackathon/2022_GYBS/input/fMOST/subject/ which can be downloaded or directly accessed via one of the provided hackathon workstations.\n",
    "\n",
    "The volumes are in [NIfTI](https://nifti.nimh.nih.gov/) file format which is commonly used in neuroimaging and can be opened using software such as [SimpleITK](https://simpleitk.org/) and [NiBabel](https://nipy.org/nibabel/nifti_images.html)."
   ]
  },
  {
   "cell_type": "code",
   "execution_count": null,
   "metadata": {},
   "outputs": [],
   "source": []
  }
 ],
 "metadata": {
  "kernelspec": {
   "display_name": "Python 3",
   "language": "python",
   "name": "python3"
  },
  "language_info": {
   "codemirror_mode": {
    "name": "ipython",
    "version": 3
   },
   "file_extension": ".py",
   "mimetype": "text/x-python",
   "name": "python",
   "nbconvert_exporter": "python",
   "pygments_lexer": "ipython3",
   "version": "3.8.5"
  }
 },
 "nbformat": 4,
 "nbformat_minor": 4
}
