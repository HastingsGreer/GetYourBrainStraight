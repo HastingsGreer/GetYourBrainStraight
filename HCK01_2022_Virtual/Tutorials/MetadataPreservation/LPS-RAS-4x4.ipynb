{
 "cells": [
  {
   "cell_type": "code",
   "execution_count": 1,
   "metadata": {},
   "outputs": [],
   "source": [
    "# Install notebook dependencies\n",
    "import sys\n",
    "\n",
    "#!{sys.executable} -m pip install itk\n"
   ]
  },
  {
   "cell_type": "code",
   "execution_count": 2,
   "metadata": {},
   "outputs": [],
   "source": [
    "# Import notebook dependencies\n",
    "import os\n",
    "import requests\n",
    "import shutil\n",
    "\n",
    "import itk\n",
    "import matplotlib.pyplot as plt\n",
    "import numpy as np\n",
    "import nibabel as nib\n"
   ]
  },
  {
   "cell_type": "code",
   "execution_count": 3,
   "metadata": {},
   "outputs": [
    {
     "name": "stdout",
     "output_type": "stream",
     "text": [
      "data/CCFv3_average_template_25_mm_ASL.nii.gz already exists.\n",
      "data/DzZ_T1.nii.gz already exists.\n"
     ]
    }
   ],
   "source": [
    "# Retrieve hosted sample data from data.kitware.com\n",
    "files_and_hashes = (\n",
    "    (\n",
    "        \"data/CCFv3_average_template_25_mm_ASL.nii.gz\",\n",
    "        \"e29e42a5bda5d1fa75baddc02d2625a87d1d712e9dad34aacce5242b684f6cad590f0e5bde78e8ae4b839e62134a703bd65379a465669afb0189f72b0b08ef71\",\n",
    "    ),\n",
    "    (\n",
    "        \"data/DzZ_T1.nii.gz\",\n",
    "        \"d0b312ad1d38041574de50eb9b1df93bde8dc9b6722d9f4d20e3ed9ab7e4372cd4fa36b6307cfa34edee345805d969cadc21d8e012b0f71bf2006a2e52a7d2bd\",\n",
    "    ),\n",
    ")\n",
    "\n",
    "os.makedirs(\"data\", exist_ok=True)\n",
    "\n",
    "for idx in range(len(files_and_hashes)):\n",
    "    if os.path.exists(files_and_hashes[idx][0]):\n",
    "        print(f\"{files_and_hashes[idx][0]} already exists.\")\n",
    "    else:\n",
    "        download_url = f\"https://data.kitware.com/api/v1/file/hashsum/sha512/{files_and_hashes[idx][1]}/download\"\n",
    "        print(f\"Downloading {download_url} into {files_and_hashes[idx][0]}\")\n",
    "        response = requests.get(download_url, stream=True)\n",
    "        with open(files_and_hashes[idx][0], \"wb\") as fp:\n",
    "            response.raw.decode_content = True\n",
    "            shutil.copyfileobj(response.raw, fp)\n"
   ]
  },
  {
   "cell_type": "code",
   "execution_count": 4,
   "metadata": {},
   "outputs": [],
   "source": [
    "# returns a 4x4 affine matrix for IJK to XYZ mapping\n",
    "# compatible with nibabel\n",
    "#\n",
    "# code taken from TorchIO and simplified\n",
    "# https://github.com/fepegar/torchio/blob/1bbf99e90cd06112c092a1fc227dedd5deb256ba/torchio/data/io.py#L344-L399\n",
    "def get_ras_affine_from_itk(itk_image) -> np.ndarray:\n",
    "    spacing = np.array(itk_image.GetSpacing())\n",
    "    direction_lps = np.array(itk_image.GetDirection())\n",
    "    origin_lps = np.array(itk_image.GetOrigin())\n",
    "    rotation_lps = direction_lps.reshape(3, 3)\n",
    "    \n",
    "    FLIPXY_33 = np.diag([-1, -1, 1])\n",
    "    rotation_ras = np.dot(FLIPXY_33, rotation_lps)\n",
    "    rotation_ras_zoom = rotation_ras * spacing\n",
    "    translation_ras = np.dot(FLIPXY_33, origin_lps)\n",
    "    affine = np.eye(4)\n",
    "    affine[:3, :3] = rotation_ras_zoom\n",
    "    affine[:3, 3] = translation_ras\n",
    "    return affine\n",
    "\n",
    "# compatible with nibabel and TorchIO\n",
    "def get_itk_metadata_from_ras_affine(affine: np.ndarray):\n",
    "    # From https://github.com/nipy/nibabel/blob/master/nibabel/orientations.py\n",
    "    rotation_zoom = affine[:3, :3]\n",
    "    spacing = np.sqrt(np.sum(rotation_zoom * rotation_zoom, axis=0))\n",
    "    direction_ras = rotation_zoom / spacing\n",
    "    origin_ras = affine[:3, 3]\n",
    "\n",
    "    FLIPXY_33 = np.diag([-1, -1, 1])\n",
    "    origin_lps = np.dot(FLIPXY_33, origin_ras)\n",
    "    direction_lps = np.dot(FLIPXY_33, direction_ras)\n",
    "\n",
    "    return origin_lps, spacing, direction_lps\n"
   ]
  },
  {
   "cell_type": "code",
   "execution_count": 5,
   "metadata": {},
   "outputs": [],
   "source": [
    "# Load the images using both ITK and NiBabel\n",
    "image = itk.imread(files_and_hashes[1][0])\n",
    "img = nib.load(files_and_hashes[1][0])\n"
   ]
  },
  {
   "cell_type": "code",
   "execution_count": 6,
   "metadata": {},
   "outputs": [
    {
     "name": "stdout",
     "output_type": "stream",
     "text": [
      "Metadata from NiBabel image:\n",
      "origin: [  26.10700035 -141.74099731  231.56100464]\n",
      "spacing: [0.68359424 0.68359371 4.40000102]\n",
      "direction:\n",
      "[[ 1.77930019e-04  2.54092027e-03 -9.99996756e-01]\n",
      " [ 9.90240643e-01 -1.39368011e-01 -1.77930023e-04]\n",
      " [-1.39367990e-01 -9.90237396e-01 -2.54092023e-03]]\n",
      "\n",
      "Metadata from ITK image:\n",
      "origin: itkPointD3 ([26.107, -141.741, 231.561])\n",
      "spacing: itkVectorD3 ([0.683594, 0.683594, 4.4])\n",
      "direction:\n",
      "itkMatrixD33 ([[0.00017793001938806862, 0.0025409202672601935, -0.999996756027381], [0.9902406432717898, -0.1393680107595337, -0.0001779300230815434], [-0.13936799041953593, -0.9902373964363929, -0.0025409202311968138]])\n"
     ]
    }
   ],
   "source": [
    "# Show spatial metadata using ITK's conventions\n",
    "origin, spacing, direction = get_itk_metadata_from_ras_affine(img.affine)\n",
    "print(\"Metadata from NiBabel image:\")\n",
    "print(f\"origin: {origin}\")\n",
    "print(f\"spacing: {spacing}\")\n",
    "print(f\"direction:\\n{direction}\")\n",
    "\n",
    "print(\"\\nMetadata from ITK image:\")\n",
    "print(f\"origin: {image.GetOrigin()}\")\n",
    "print(f\"spacing: {image.GetSpacing()}\")\n",
    "print(f\"direction:\\n{image.GetDirection()}\")\n"
   ]
  },
  {
   "cell_type": "code",
   "execution_count": 7,
   "metadata": {},
   "outputs": [
    {
     "name": "stdout",
     "output_type": "stream",
     "text": [
      "img.affine:\n",
      "[[ -0.     -0.002   4.4   -26.107]\n",
      " [ -0.677   0.095   0.001 141.741]\n",
      " [ -0.095  -0.677  -0.011 231.561]\n",
      " [  0.      0.      0.      1.   ]]\n",
      "\n",
      "get_ras_affine_from_itk(image):\n",
      "[[ -0.     -0.002   4.4   -26.107]\n",
      " [ -0.677   0.095   0.001 141.741]\n",
      " [ -0.095  -0.677  -0.011 231.561]\n",
      " [  0.      0.      0.      1.   ]]\n"
     ]
    }
   ],
   "source": [
    "# Show spatial metadata using NiBabel's conventions\n",
    "np.set_printoptions(precision=3, suppress=True)\n",
    "\n",
    "print(f\"img.affine:\\n{img.affine}\\n\")\n",
    "print(f\"get_ras_affine_from_itk(image):\\n{get_ras_affine_from_itk(image)}\")\n",
    "\n",
    "# print(f\"\\nimage: {image}\")  # Display all, long and ugly\n",
    "# print(f\"\\nimg: {img}\")  # Display all, long and ugly\n"
   ]
  },
  {
   "cell_type": "code",
   "execution_count": null,
   "metadata": {},
   "outputs": [],
   "source": []
  }
 ],
 "metadata": {
  "kernelspec": {
   "display_name": "Python 3",
   "language": "python",
   "name": "python3"
  },
  "language_info": {
   "codemirror_mode": {
    "name": "ipython",
    "version": 3
   },
   "file_extension": ".py",
   "mimetype": "text/x-python",
   "name": "python",
   "nbconvert_exporter": "python",
   "pygments_lexer": "ipython3",
   "version": "3.7.0"
  }
 },
 "nbformat": 4,
 "nbformat_minor": 4
}
