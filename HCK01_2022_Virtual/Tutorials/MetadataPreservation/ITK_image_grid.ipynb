{
 "cells": [
  {
   "cell_type": "markdown",
   "metadata": {},
   "source": [
    "# ITK image grid: image's spatial metadata"
   ]
  },
  {
   "cell_type": "markdown",
   "metadata": {},
   "source": [
    "Origin and spacing\n",
    "\n",
    "![Origin and Spacing](images/origin_spacing.svg \"Origin and Spacing\")"
   ]
  },
  {
   "cell_type": "markdown",
   "metadata": {},
   "source": [
    "Pixel indices\n",
    "\n",
    "![Image indices](images/indices.svg \"Indices\")\n",
    "\n",
    "Index to physical coordinate conversion:\n",
    "```\n",
    "P[0] = Index[0] x Spacing[0] + Origin[0]\n",
    "P[1] = Index[1] x Spacing[1] + Origin[1]\n",
    "```\n",
    "\n",
    "Physical to index coordinate conversion:\n",
    "```\n",
    "Index[0] = floor( ( P[0] - Origin[0] ) / Spacing[0] + 0.5 )\n",
    "Index[1] = floor( ( P[1] - Origin[1] ) / Spacing[1] + 0.5 )\n",
    "```"
   ]
  },
  {
   "cell_type": "markdown",
   "metadata": {},
   "source": [
    "Region\n",
    "\n",
    "![Image region](images/region.svg \"Region\")"
   ]
  },
  {
   "cell_type": "markdown",
   "metadata": {},
   "source": [
    "Orientation via axes directions\n",
    "\n",
    "![Image orientation](images/direction.svg \"Direction\")"
   ]
  },
  {
   "cell_type": "markdown",
   "metadata": {},
   "source": [
    "Original and sub-sampling grid\n",
    "\n",
    "![Original and sub-sampling grid](images/subsampling1.svg \"Original and sub-sampling grid\")"
   ]
  },
  {
   "cell_type": "markdown",
   "metadata": {},
   "source": [
    "Sub-sampling grid\n",
    "\n",
    "![Sub-sampling grid](images/subsampling2.svg \"Sub-sampling grid\")"
   ]
  },
  {
   "cell_type": "markdown",
   "metadata": {},
   "source": [
    "Original and super-sampling grid\n",
    "\n",
    "![Original and super-sampling grid](images/supersampling1.svg \"Original and super-sampling grid\")"
   ]
  },
  {
   "cell_type": "markdown",
   "metadata": {},
   "source": [
    "Super-sampling grid\n",
    "\n",
    "![Super-sampling grid](images/supersampling2.svg \"Super-sampling grid\")"
   ]
  },
  {
   "cell_type": "markdown",
   "metadata": {},
   "source": [
    "Image grid: Coordinate System Conversions\n",
    "\n",
    "![ITK Registration Transforms](images/registration_transforms.svg \"Registration Transforms\")\n",
    "\n",
    "Images should be correlated via their physical coordinates. This is especially important for registration."
   ]
  },
  {
   "cell_type": "code",
   "execution_count": null,
   "metadata": {},
   "outputs": [],
   "source": []
  }
 ],
 "metadata": {
  "kernelspec": {
   "display_name": "Python 3",
   "language": "python",
   "name": "python3"
  },
  "language_info": {
   "codemirror_mode": {
    "name": "ipython",
    "version": 3
   },
   "file_extension": ".py",
   "mimetype": "text/x-python",
   "name": "python",
   "nbconvert_exporter": "python",
   "pygments_lexer": "ipython3",
   "version": "3.7.0"
  }
 },
 "nbformat": 4,
 "nbformat_minor": 4
}
